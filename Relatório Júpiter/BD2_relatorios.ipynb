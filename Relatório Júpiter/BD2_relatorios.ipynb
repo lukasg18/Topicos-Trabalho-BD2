{
 "cells": [
  {
   "cell_type": "markdown",
   "metadata": {},
   "source": [
    "# Conexão com postgres e Relatorios do Sistema"
   ]
  },
  {
   "cell_type": "markdown",
   "metadata": {},
   "source": [
    "## Instalando biblioteca de acesso com postgres e manipulação de dados e gráficos"
   ]
  },
  {
   "cell_type": "code",
   "execution_count": 4,
   "metadata": {},
   "outputs": [
    {
     "name": "stdout",
     "output_type": "stream",
     "text": [
      "Collecting psycopg2\n",
      "  Downloading https://files.pythonhosted.org/packages/bc/2a/61a8f9719bd6df5b421abd91740cb0595fc3c17b28eaf89fe4f144472ca6/psycopg2-2.7.6.1-cp36-cp36m-manylinux1_x86_64.whl (2.7MB)\n",
      "\u001b[K    100% |████████████████████████████████| 2.7MB 193kB/s ta 0:00:01\n",
      "\u001b[?25hInstalling collected packages: psycopg2\n",
      "Successfully installed psycopg2-2.7.6.1\n",
      "\u001b[33mYou are using pip version 9.0.1, however version 18.1 is available.\n",
      "You should consider upgrading via the 'pip install --upgrade pip' command.\u001b[0m\n",
      "Requirement already satisfied: seaborn in /opt/conda/lib/python3.6/site-packages\n",
      "Requirement already satisfied: numpy in /opt/conda/lib/python3.6/site-packages (from seaborn)\n",
      "Requirement already satisfied: scipy in /opt/conda/lib/python3.6/site-packages (from seaborn)\n",
      "Requirement already satisfied: matplotlib in /opt/conda/lib/python3.6/site-packages (from seaborn)\n",
      "Requirement already satisfied: pandas in /opt/conda/lib/python3.6/site-packages (from seaborn)\n",
      "Requirement already satisfied: six>=1.10 in /opt/conda/lib/python3.6/site-packages (from matplotlib->seaborn)\n",
      "Requirement already satisfied: python-dateutil in /opt/conda/lib/python3.6/site-packages (from matplotlib->seaborn)\n",
      "Requirement already satisfied: pytz in /opt/conda/lib/python3.6/site-packages (from matplotlib->seaborn)\n",
      "Requirement already satisfied: cycler>=0.10 in /opt/conda/lib/python3.6/site-packages/cycler-0.10.0-py3.6.egg (from matplotlib->seaborn)\n",
      "Requirement already satisfied: pyparsing!=2.0.4,!=2.1.2,!=2.1.6,>=1.5.6 in /opt/conda/lib/python3.6/site-packages (from matplotlib->seaborn)\n",
      "\u001b[33mYou are using pip version 9.0.1, however version 18.1 is available.\n",
      "You should consider upgrading via the 'pip install --upgrade pip' command.\u001b[0m\n",
      "Requirement already satisfied: pandas in /opt/conda/lib/python3.6/site-packages\n",
      "Requirement already satisfied: python-dateutil>=2 in /opt/conda/lib/python3.6/site-packages (from pandas)\n",
      "Requirement already satisfied: pytz>=2011k in /opt/conda/lib/python3.6/site-packages (from pandas)\n",
      "Requirement already satisfied: numpy>=1.7.0 in /opt/conda/lib/python3.6/site-packages (from pandas)\n",
      "Requirement already satisfied: six>=1.5 in /opt/conda/lib/python3.6/site-packages (from python-dateutil>=2->pandas)\n",
      "\u001b[33mYou are using pip version 9.0.1, however version 18.1 is available.\n",
      "You should consider upgrading via the 'pip install --upgrade pip' command.\u001b[0m\n"
     ]
    }
   ],
   "source": [
    "!pip install psycopg2\n",
    "!pip install --user seaborn\n",
    "!pip install --user pandas"
   ]
  },
  {
   "cell_type": "markdown",
   "metadata": {},
   "source": [
    "### Importando bibliotecas"
   ]
  },
  {
   "cell_type": "code",
   "execution_count": 6,
   "metadata": {},
   "outputs": [],
   "source": [
    "import seaborn as sns\n",
    "import pandas as pd\n",
    "import psycopg2"
   ]
  },
  {
   "cell_type": "markdown",
   "metadata": {},
   "source": [
    "### Usando psycopg2 para configurar conexão"
   ]
  },
  {
   "cell_type": "code",
   "execution_count": 7,
   "metadata": {},
   "outputs": [],
   "source": [
    "conn = psycopg2.connect(host=\"elmer.db.elephantsql.com\", port=\"5432\", database=\"aiexkamd\", user=\"aiexkamd\", password=\"QpfBdkd4AT2chCRjdjGbPPoSXdctwU9y\")"
   ]
  },
  {
   "cell_type": "markdown",
   "metadata": {},
   "source": [
    "## Obtendo dados do database com Pandas"
   ]
  },
  {
   "cell_type": "markdown",
   "metadata": {},
   "source": [
    "# Relatório 1"
   ]
  },
  {
   "cell_type": "markdown",
   "metadata": {},
   "source": [
    "### Objetivo: Retirar Medicamentos Solicitados\n"
   ]
  },
  {
   "cell_type": "markdown",
   "metadata": {},
   "source": [
    "Código para obtenção do resultado:"
   ]
  },
  {
   "cell_type": "code",
   "execution_count": 8,
   "metadata": {},
   "outputs": [],
   "source": [
    "result1 = pd.read_sql_query(\"\"\"\n",
    "                            SELECT pe.nome AS \"Paciente\", me.nome AS \"Medicamento\", mp.quantidade AS\n",
    "                            \"Quantidade\", so.estadosolicitacao AS \"Estado\" FROM pessoa AS pe\n",
    "                            INNER JOIN titular AS ti ON (ti.idpessoa = pe.idpessoa)\n",
    "                            INNER JOIN solicitacao AS so ON (so.idtitular = ti.idpessoa)\n",
    "                            INNER JOIN medicamento_posto AS mp ON (mp.idmedicamentoposto =\n",
    "                            so.idmedicamentoposto)\n",
    "                            INNER JOIN medicamento AS me ON (me.idmedicamento = mp.idmedicamento)\n",
    "                            WHERE estadosolicitacao = 2 limit 10;\n",
    "                            \"\"\",conn)"
   ]
  },
  {
   "cell_type": "code",
   "execution_count": 9,
   "metadata": {},
   "outputs": [
    {
     "data": {
      "text/html": [
       "<div>\n",
       "<table border=\"1\" class=\"dataframe\">\n",
       "  <thead>\n",
       "    <tr style=\"text-align: right;\">\n",
       "      <th></th>\n",
       "      <th>Paciente</th>\n",
       "      <th>Medicamento</th>\n",
       "      <th>Quantidade</th>\n",
       "      <th>Estado</th>\n",
       "    </tr>\n",
       "  </thead>\n",
       "  <tbody>\n",
       "    <tr>\n",
       "      <th>0</th>\n",
       "      <td>Alegra Porto Gama Ramos</td>\n",
       "      <td>BENZILPENICILINA BENZATINA</td>\n",
       "      <td>8</td>\n",
       "      <td>2</td>\n",
       "    </tr>\n",
       "    <tr>\n",
       "      <th>1</th>\n",
       "      <td>Raíssa Camões Cerejeira</td>\n",
       "      <td>ÁCIDO ACETILSALICÍLICO</td>\n",
       "      <td>20</td>\n",
       "      <td>2</td>\n",
       "    </tr>\n",
       "    <tr>\n",
       "      <th>2</th>\n",
       "      <td>Margarita Vilela Lange</td>\n",
       "      <td>NORETISTERONA</td>\n",
       "      <td>18</td>\n",
       "      <td>2</td>\n",
       "    </tr>\n",
       "    <tr>\n",
       "      <th>3</th>\n",
       "      <td>Margarita Vilela Lange</td>\n",
       "      <td>ISOSSORBIDA, DINITRATO</td>\n",
       "      <td>5</td>\n",
       "      <td>2</td>\n",
       "    </tr>\n",
       "    <tr>\n",
       "      <th>4</th>\n",
       "      <td>Margarita Vilela Lange</td>\n",
       "      <td>RIFAMPICINA</td>\n",
       "      <td>7</td>\n",
       "      <td>2</td>\n",
       "    </tr>\n",
       "    <tr>\n",
       "      <th>5</th>\n",
       "      <td>Eleonora Locatelli</td>\n",
       "      <td>VERAPAMIL, CLORIDRATO</td>\n",
       "      <td>15</td>\n",
       "      <td>2</td>\n",
       "    </tr>\n",
       "    <tr>\n",
       "      <th>6</th>\n",
       "      <td>Kin Faleiros Saramago Leme</td>\n",
       "      <td>ISONIAZIDA</td>\n",
       "      <td>5</td>\n",
       "      <td>2</td>\n",
       "    </tr>\n",
       "    <tr>\n",
       "      <th>7</th>\n",
       "      <td>Fausto Farias Carmo Menino</td>\n",
       "      <td>PREDNISOLONA,FOSFATO SÓDICO</td>\n",
       "      <td>6</td>\n",
       "      <td>2</td>\n",
       "    </tr>\n",
       "    <tr>\n",
       "      <th>8</th>\n",
       "      <td>Valentim Fortaleza</td>\n",
       "      <td>METOCLOPRAMIDA, CLORIDRATO</td>\n",
       "      <td>13</td>\n",
       "      <td>2</td>\n",
       "    </tr>\n",
       "    <tr>\n",
       "      <th>9</th>\n",
       "      <td>Mingmei Souza</td>\n",
       "      <td>SINVASTATINA</td>\n",
       "      <td>4</td>\n",
       "      <td>2</td>\n",
       "    </tr>\n",
       "  </tbody>\n",
       "</table>\n",
       "</div>"
      ],
      "text/plain": [
       "                     Paciente                  Medicamento  Quantidade  Estado\n",
       "0     Alegra Porto Gama Ramos   BENZILPENICILINA BENZATINA           8       2\n",
       "1     Raíssa Camões Cerejeira       ÁCIDO ACETILSALICÍLICO          20       2\n",
       "2      Margarita Vilela Lange                NORETISTERONA          18       2\n",
       "3      Margarita Vilela Lange       ISOSSORBIDA, DINITRATO           5       2\n",
       "4      Margarita Vilela Lange                  RIFAMPICINA           7       2\n",
       "5          Eleonora Locatelli        VERAPAMIL, CLORIDRATO          15       2\n",
       "6  Kin Faleiros Saramago Leme                   ISONIAZIDA           5       2\n",
       "7  Fausto Farias Carmo Menino  PREDNISOLONA,FOSFATO SÓDICO           6       2\n",
       "8          Valentim Fortaleza   METOCLOPRAMIDA, CLORIDRATO          13       2\n",
       "9               Mingmei Souza                 SINVASTATINA           4       2"
      ]
     },
     "execution_count": 9,
     "metadata": {},
     "output_type": "execute_result"
    }
   ],
   "source": [
    "result1"
   ]
  },
  {
   "cell_type": "markdown",
   "metadata": {},
   "source": [
    "# Relatorio2"
   ]
  },
  {
   "cell_type": "markdown",
   "metadata": {},
   "source": [
    "### Medicamentos mais retirados por quantidade"
   ]
  },
  {
   "cell_type": "markdown",
   "metadata": {},
   "source": [
    "codigo para obtenção do resultado:"
   ]
  },
  {
   "cell_type": "code",
   "execution_count": 19,
   "metadata": {},
   "outputs": [],
   "source": [
    "result = pd.read_sql_query(\"\"\"\n",
    "                            SELECT me.nome, SUM(re.quantidademedicamentos) AS \"Quantidade\" FROM medicamento\n",
    "                            AS me\n",
    "                            INNER JOIN medicamento_posto AS mp ON (mp.idmedicamento = me.idmedicamento)\n",
    "                            INNER JOIN recebimento AS re ON (re.idmedicamentoposto = mp.idmedicamentoposto)\n",
    "                            GROUP BY me.idmedicamento\n",
    "                            ORDER BY \"Quantidade\" DESC limit 10;\n",
    "                            \"\"\",conn)"
   ]
  },
  {
   "cell_type": "code",
   "execution_count": 20,
   "metadata": {},
   "outputs": [
    {
     "data": {
      "text/html": [
       "<div>\n",
       "<table border=\"1\" class=\"dataframe\">\n",
       "  <thead>\n",
       "    <tr style=\"text-align: right;\">\n",
       "      <th></th>\n",
       "      <th>nome</th>\n",
       "      <th>Quantidade</th>\n",
       "    </tr>\n",
       "  </thead>\n",
       "  <tbody>\n",
       "    <tr>\n",
       "      <th>0</th>\n",
       "      <td>VERAPAMIL, CLORIDRATO</td>\n",
       "      <td>23</td>\n",
       "    </tr>\n",
       "    <tr>\n",
       "      <th>1</th>\n",
       "      <td>TIAMINA (CLORIDRATO/PALMITATO)</td>\n",
       "      <td>22</td>\n",
       "    </tr>\n",
       "    <tr>\n",
       "      <th>2</th>\n",
       "      <td>PROMETAZINA, CLORIDRATO</td>\n",
       "      <td>22</td>\n",
       "    </tr>\n",
       "    <tr>\n",
       "      <th>3</th>\n",
       "      <td>BENZILPENICILINA BENZATINA</td>\n",
       "      <td>20</td>\n",
       "    </tr>\n",
       "    <tr>\n",
       "      <th>4</th>\n",
       "      <td>TALIDOMIDA</td>\n",
       "      <td>19</td>\n",
       "    </tr>\n",
       "    <tr>\n",
       "      <th>5</th>\n",
       "      <td>AMITRIPTILINA, CLORIDRATO DE</td>\n",
       "      <td>17</td>\n",
       "    </tr>\n",
       "    <tr>\n",
       "      <th>6</th>\n",
       "      <td>SINVASTATINA</td>\n",
       "      <td>16</td>\n",
       "    </tr>\n",
       "    <tr>\n",
       "      <th>7</th>\n",
       "      <td>OMEPRAZOL E OMEPRAZOL SÓDICO</td>\n",
       "      <td>15</td>\n",
       "    </tr>\n",
       "    <tr>\n",
       "      <th>8</th>\n",
       "      <td>LOSARTANA POTÁSSICA</td>\n",
       "      <td>13</td>\n",
       "    </tr>\n",
       "    <tr>\n",
       "      <th>9</th>\n",
       "      <td>SULFATO FERROSO</td>\n",
       "      <td>13</td>\n",
       "    </tr>\n",
       "  </tbody>\n",
       "</table>\n",
       "</div>"
      ],
      "text/plain": [
       "                             nome  Quantidade\n",
       "0           VERAPAMIL, CLORIDRATO          23\n",
       "1  TIAMINA (CLORIDRATO/PALMITATO)          22\n",
       "2         PROMETAZINA, CLORIDRATO          22\n",
       "3      BENZILPENICILINA BENZATINA          20\n",
       "4                      TALIDOMIDA          19\n",
       "5    AMITRIPTILINA, CLORIDRATO DE          17\n",
       "6                    SINVASTATINA          16\n",
       "7    OMEPRAZOL E OMEPRAZOL SÓDICO          15\n",
       "8             LOSARTANA POTÁSSICA          13\n",
       "9                 SULFATO FERROSO          13"
      ]
     },
     "execution_count": 20,
     "metadata": {},
     "output_type": "execute_result"
    }
   ],
   "source": [
    "result"
   ]
  },
  {
   "cell_type": "markdown",
   "metadata": {},
   "source": [
    "Alternativamente podemos aplicar estilos a tabela para melhor formatação usando pandas e seaborn"
   ]
  },
  {
   "cell_type": "code",
   "execution_count": 21,
   "metadata": {},
   "outputs": [
    {
     "data": {
      "text/html": [
       "\n",
       "        <style  type=\"text/css\" >\n",
       "        \n",
       "        \n",
       "            #T_eea5fb8e_f1a0_11e8_9358_0242ac110003row0_col1 {\n",
       "            \n",
       "                background-color:  #008000;\n",
       "            \n",
       "            }\n",
       "        \n",
       "            #T_eea5fb8e_f1a0_11e8_9358_0242ac110003row1_col1 {\n",
       "            \n",
       "                background-color:  #178c17;\n",
       "            \n",
       "            }\n",
       "        \n",
       "            #T_eea5fb8e_f1a0_11e8_9358_0242ac110003row2_col1 {\n",
       "            \n",
       "                background-color:  #178c17;\n",
       "            \n",
       "            }\n",
       "        \n",
       "            #T_eea5fb8e_f1a0_11e8_9358_0242ac110003row3_col1 {\n",
       "            \n",
       "                background-color:  #44a644;\n",
       "            \n",
       "            }\n",
       "        \n",
       "            #T_eea5fb8e_f1a0_11e8_9358_0242ac110003row4_col1 {\n",
       "            \n",
       "                background-color:  #5cb35c;\n",
       "            \n",
       "            }\n",
       "        \n",
       "            #T_eea5fb8e_f1a0_11e8_9358_0242ac110003row5_col1 {\n",
       "            \n",
       "                background-color:  #8acc8a;\n",
       "            \n",
       "            }\n",
       "        \n",
       "            #T_eea5fb8e_f1a0_11e8_9358_0242ac110003row6_col1 {\n",
       "            \n",
       "                background-color:  #a1d9a1;\n",
       "            \n",
       "            }\n",
       "        \n",
       "            #T_eea5fb8e_f1a0_11e8_9358_0242ac110003row7_col1 {\n",
       "            \n",
       "                background-color:  #b8e6b8;\n",
       "            \n",
       "            }\n",
       "        \n",
       "            #T_eea5fb8e_f1a0_11e8_9358_0242ac110003row8_col1 {\n",
       "            \n",
       "                background-color:  #e5ffe5;\n",
       "            \n",
       "            }\n",
       "        \n",
       "            #T_eea5fb8e_f1a0_11e8_9358_0242ac110003row9_col1 {\n",
       "            \n",
       "                background-color:  #e5ffe5;\n",
       "            \n",
       "            }\n",
       "        \n",
       "        </style>\n",
       "\n",
       "        <table id=\"T_eea5fb8e_f1a0_11e8_9358_0242ac110003\" None>\n",
       "        \n",
       "\n",
       "        <thead>\n",
       "            \n",
       "            <tr>\n",
       "                \n",
       "                \n",
       "                <th class=\"blank level0\" >\n",
       "                  \n",
       "                \n",
       "                \n",
       "                \n",
       "                <th class=\"col_heading level0 col0\" colspan=1>\n",
       "                  nome\n",
       "                \n",
       "                \n",
       "                \n",
       "                <th class=\"col_heading level0 col1\" colspan=1>\n",
       "                  Quantidade\n",
       "                \n",
       "                \n",
       "            </tr>\n",
       "            \n",
       "        </thead>\n",
       "        <tbody>\n",
       "            \n",
       "            <tr>\n",
       "                \n",
       "                \n",
       "                <th id=\"T_eea5fb8e_f1a0_11e8_9358_0242ac110003\"\n",
       "                 class=\"row_heading level0 row0\" rowspan=1>\n",
       "                    0\n",
       "                \n",
       "                \n",
       "                \n",
       "                <td id=\"T_eea5fb8e_f1a0_11e8_9358_0242ac110003row0_col0\"\n",
       "                 class=\"data row0 col0\" >\n",
       "                    VERAPAMIL, CLORIDRATO\n",
       "                \n",
       "                \n",
       "                \n",
       "                <td id=\"T_eea5fb8e_f1a0_11e8_9358_0242ac110003row0_col1\"\n",
       "                 class=\"data row0 col1\" >\n",
       "                    23\n",
       "                \n",
       "                \n",
       "            </tr>\n",
       "            \n",
       "            <tr>\n",
       "                \n",
       "                \n",
       "                <th id=\"T_eea5fb8e_f1a0_11e8_9358_0242ac110003\"\n",
       "                 class=\"row_heading level0 row1\" rowspan=1>\n",
       "                    1\n",
       "                \n",
       "                \n",
       "                \n",
       "                <td id=\"T_eea5fb8e_f1a0_11e8_9358_0242ac110003row1_col0\"\n",
       "                 class=\"data row1 col0\" >\n",
       "                    TIAMINA (CLORIDRATO/PALMITATO)\n",
       "                \n",
       "                \n",
       "                \n",
       "                <td id=\"T_eea5fb8e_f1a0_11e8_9358_0242ac110003row1_col1\"\n",
       "                 class=\"data row1 col1\" >\n",
       "                    22\n",
       "                \n",
       "                \n",
       "            </tr>\n",
       "            \n",
       "            <tr>\n",
       "                \n",
       "                \n",
       "                <th id=\"T_eea5fb8e_f1a0_11e8_9358_0242ac110003\"\n",
       "                 class=\"row_heading level0 row2\" rowspan=1>\n",
       "                    2\n",
       "                \n",
       "                \n",
       "                \n",
       "                <td id=\"T_eea5fb8e_f1a0_11e8_9358_0242ac110003row2_col0\"\n",
       "                 class=\"data row2 col0\" >\n",
       "                    PROMETAZINA, CLORIDRATO\n",
       "                \n",
       "                \n",
       "                \n",
       "                <td id=\"T_eea5fb8e_f1a0_11e8_9358_0242ac110003row2_col1\"\n",
       "                 class=\"data row2 col1\" >\n",
       "                    22\n",
       "                \n",
       "                \n",
       "            </tr>\n",
       "            \n",
       "            <tr>\n",
       "                \n",
       "                \n",
       "                <th id=\"T_eea5fb8e_f1a0_11e8_9358_0242ac110003\"\n",
       "                 class=\"row_heading level0 row3\" rowspan=1>\n",
       "                    3\n",
       "                \n",
       "                \n",
       "                \n",
       "                <td id=\"T_eea5fb8e_f1a0_11e8_9358_0242ac110003row3_col0\"\n",
       "                 class=\"data row3 col0\" >\n",
       "                    BENZILPENICILINA BENZATINA\n",
       "                \n",
       "                \n",
       "                \n",
       "                <td id=\"T_eea5fb8e_f1a0_11e8_9358_0242ac110003row3_col1\"\n",
       "                 class=\"data row3 col1\" >\n",
       "                    20\n",
       "                \n",
       "                \n",
       "            </tr>\n",
       "            \n",
       "            <tr>\n",
       "                \n",
       "                \n",
       "                <th id=\"T_eea5fb8e_f1a0_11e8_9358_0242ac110003\"\n",
       "                 class=\"row_heading level0 row4\" rowspan=1>\n",
       "                    4\n",
       "                \n",
       "                \n",
       "                \n",
       "                <td id=\"T_eea5fb8e_f1a0_11e8_9358_0242ac110003row4_col0\"\n",
       "                 class=\"data row4 col0\" >\n",
       "                    TALIDOMIDA\n",
       "                \n",
       "                \n",
       "                \n",
       "                <td id=\"T_eea5fb8e_f1a0_11e8_9358_0242ac110003row4_col1\"\n",
       "                 class=\"data row4 col1\" >\n",
       "                    19\n",
       "                \n",
       "                \n",
       "            </tr>\n",
       "            \n",
       "            <tr>\n",
       "                \n",
       "                \n",
       "                <th id=\"T_eea5fb8e_f1a0_11e8_9358_0242ac110003\"\n",
       "                 class=\"row_heading level0 row5\" rowspan=1>\n",
       "                    5\n",
       "                \n",
       "                \n",
       "                \n",
       "                <td id=\"T_eea5fb8e_f1a0_11e8_9358_0242ac110003row5_col0\"\n",
       "                 class=\"data row5 col0\" >\n",
       "                    AMITRIPTILINA, CLORIDRATO DE\n",
       "                \n",
       "                \n",
       "                \n",
       "                <td id=\"T_eea5fb8e_f1a0_11e8_9358_0242ac110003row5_col1\"\n",
       "                 class=\"data row5 col1\" >\n",
       "                    17\n",
       "                \n",
       "                \n",
       "            </tr>\n",
       "            \n",
       "            <tr>\n",
       "                \n",
       "                \n",
       "                <th id=\"T_eea5fb8e_f1a0_11e8_9358_0242ac110003\"\n",
       "                 class=\"row_heading level0 row6\" rowspan=1>\n",
       "                    6\n",
       "                \n",
       "                \n",
       "                \n",
       "                <td id=\"T_eea5fb8e_f1a0_11e8_9358_0242ac110003row6_col0\"\n",
       "                 class=\"data row6 col0\" >\n",
       "                    SINVASTATINA\n",
       "                \n",
       "                \n",
       "                \n",
       "                <td id=\"T_eea5fb8e_f1a0_11e8_9358_0242ac110003row6_col1\"\n",
       "                 class=\"data row6 col1\" >\n",
       "                    16\n",
       "                \n",
       "                \n",
       "            </tr>\n",
       "            \n",
       "            <tr>\n",
       "                \n",
       "                \n",
       "                <th id=\"T_eea5fb8e_f1a0_11e8_9358_0242ac110003\"\n",
       "                 class=\"row_heading level0 row7\" rowspan=1>\n",
       "                    7\n",
       "                \n",
       "                \n",
       "                \n",
       "                <td id=\"T_eea5fb8e_f1a0_11e8_9358_0242ac110003row7_col0\"\n",
       "                 class=\"data row7 col0\" >\n",
       "                    OMEPRAZOL E OMEPRAZOL SÓDICO\n",
       "                \n",
       "                \n",
       "                \n",
       "                <td id=\"T_eea5fb8e_f1a0_11e8_9358_0242ac110003row7_col1\"\n",
       "                 class=\"data row7 col1\" >\n",
       "                    15\n",
       "                \n",
       "                \n",
       "            </tr>\n",
       "            \n",
       "            <tr>\n",
       "                \n",
       "                \n",
       "                <th id=\"T_eea5fb8e_f1a0_11e8_9358_0242ac110003\"\n",
       "                 class=\"row_heading level0 row8\" rowspan=1>\n",
       "                    8\n",
       "                \n",
       "                \n",
       "                \n",
       "                <td id=\"T_eea5fb8e_f1a0_11e8_9358_0242ac110003row8_col0\"\n",
       "                 class=\"data row8 col0\" >\n",
       "                    LOSARTANA POTÁSSICA\n",
       "                \n",
       "                \n",
       "                \n",
       "                <td id=\"T_eea5fb8e_f1a0_11e8_9358_0242ac110003row8_col1\"\n",
       "                 class=\"data row8 col1\" >\n",
       "                    13\n",
       "                \n",
       "                \n",
       "            </tr>\n",
       "            \n",
       "            <tr>\n",
       "                \n",
       "                \n",
       "                <th id=\"T_eea5fb8e_f1a0_11e8_9358_0242ac110003\"\n",
       "                 class=\"row_heading level0 row9\" rowspan=1>\n",
       "                    9\n",
       "                \n",
       "                \n",
       "                \n",
       "                <td id=\"T_eea5fb8e_f1a0_11e8_9358_0242ac110003row9_col0\"\n",
       "                 class=\"data row9 col0\" >\n",
       "                    SULFATO FERROSO\n",
       "                \n",
       "                \n",
       "                \n",
       "                <td id=\"T_eea5fb8e_f1a0_11e8_9358_0242ac110003row9_col1\"\n",
       "                 class=\"data row9 col1\" >\n",
       "                    13\n",
       "                \n",
       "                \n",
       "            </tr>\n",
       "            \n",
       "        </tbody>\n",
       "        </table>\n",
       "        "
      ],
      "text/plain": [
       "<pandas.formats.style.Styler at 0x7f9f1968d2b0>"
      ]
     },
     "execution_count": 21,
     "metadata": {},
     "output_type": "execute_result"
    }
   ],
   "source": [
    "df = pd.DataFrame(result)\n",
    "cm = sns.light_palette(\"green\", as_cmap=True)\n",
    "df.style.background_gradient(cmap=cm)\n"
   ]
  },
  {
   "cell_type": "markdown",
   "metadata": {},
   "source": [
    "Podemos também utilizar o matplotlib que é instalado por padrão com o seaborn"
   ]
  },
  {
   "cell_type": "code",
   "execution_count": null,
   "metadata": {},
   "outputs": [],
   "source": [
    "import matplotlib.pyplot as plt\n",
    "plt.plot(df.nome, df.Quantidade)\n"
   ]
  },
  {
   "cell_type": "code",
   "execution_count": null,
   "metadata": {},
   "outputs": [],
   "source": [
    "import matplotlib.pyplot as plt; plt.rcdefaults()\n",
    "import numpy as np\n",
    "import matplotlib.pyplot as plt\n",
    " \n",
    "objects = tuple(df.nome)\n",
    "y_pos = np.arange(len(objects))\n",
    "performance = list(df.Quantidade)\n",
    " \n",
    "plt.bar(y_pos, performance, align='center', alpha=0.5)\n",
    "plt.xticks(y_pos, objects)\n",
    "plt.ylabel('Quantidade')\n",
    "plt.title('Nome')\n",
    " \n",
    "plt.show()"
   ]
  },
  {
   "cell_type": "markdown",
   "metadata": {},
   "source": [
    "References"
   ]
  },
  {
   "cell_type": "markdown",
   "metadata": {},
   "source": [
    "## Relatório 3"
   ]
  },
  {
   "cell_type": "markdown",
   "metadata": {},
   "source": [
    "### Objetivo: Medicamentos mais solicitados por quantidade"
   ]
  },
  {
   "cell_type": "markdown",
   "metadata": {},
   "source": [
    "codigo para obtenção do resultado:"
   ]
  },
  {
   "cell_type": "code",
   "execution_count": 26,
   "metadata": {},
   "outputs": [],
   "source": [
    "result = pd.read_sql_query(\"\"\"\n",
    "                            SELECT me.nome, SUM(me.idmedicamento) AS \"Quantidade\" FROM medicamento AS me\n",
    "                            INNER JOIN medicamento_posto AS mp ON (mp.idmedicamento = me.idmedicamento)\n",
    "                            INNER JOIN solicitacao AS so ON (so.idmedicamentoposto = mp.idmedicamentoposto)\n",
    "                            GROUP BY me.idmedicamento\n",
    "                            ORDER BY \"Quantidade\" DESC limit 10;\n",
    "                            \"\"\",conn)"
   ]
  },
  {
   "cell_type": "code",
   "execution_count": 27,
   "metadata": {},
   "outputs": [
    {
     "data": {
      "text/html": [
       "<div>\n",
       "<table border=\"1\" class=\"dataframe\">\n",
       "  <thead>\n",
       "    <tr style=\"text-align: right;\">\n",
       "      <th></th>\n",
       "      <th>nome</th>\n",
       "      <th>Quantidade</th>\n",
       "    </tr>\n",
       "  </thead>\n",
       "  <tbody>\n",
       "    <tr>\n",
       "      <th>0</th>\n",
       "      <td>SULFAMETOXAZOL com TRIMETOPRIMA</td>\n",
       "      <td>672</td>\n",
       "    </tr>\n",
       "    <tr>\n",
       "      <th>1</th>\n",
       "      <td>PREDNISONA</td>\n",
       "      <td>276</td>\n",
       "    </tr>\n",
       "    <tr>\n",
       "      <th>2</th>\n",
       "      <td>TALIDOMIDA</td>\n",
       "      <td>258</td>\n",
       "    </tr>\n",
       "    <tr>\n",
       "      <th>3</th>\n",
       "      <td>VERAPAMIL, CLORIDRATO</td>\n",
       "      <td>182</td>\n",
       "    </tr>\n",
       "    <tr>\n",
       "      <th>4</th>\n",
       "      <td>RIFAMPICINA com ISONIAZIDA com PIRAZINAMIDA co...</td>\n",
       "      <td>152</td>\n",
       "    </tr>\n",
       "    <tr>\n",
       "      <th>5</th>\n",
       "      <td>METOCLOPRAMIDA, CLORIDRATO</td>\n",
       "      <td>147</td>\n",
       "    </tr>\n",
       "    <tr>\n",
       "      <th>6</th>\n",
       "      <td>TUBERCULINA (DERIVADO PROTEICO PURIFICADO ) PP...</td>\n",
       "      <td>88</td>\n",
       "    </tr>\n",
       "    <tr>\n",
       "      <th>7</th>\n",
       "      <td>ISONIAZIDA</td>\n",
       "      <td>87</td>\n",
       "    </tr>\n",
       "    <tr>\n",
       "      <th>8</th>\n",
       "      <td>TIAMINA (CLORIDRATO/PALMITATO)</td>\n",
       "      <td>87</td>\n",
       "    </tr>\n",
       "    <tr>\n",
       "      <th>9</th>\n",
       "      <td>SULFATO FERROSO</td>\n",
       "      <td>85</td>\n",
       "    </tr>\n",
       "  </tbody>\n",
       "</table>\n",
       "</div>"
      ],
      "text/plain": [
       "                                                nome  Quantidade\n",
       "0                    SULFAMETOXAZOL com TRIMETOPRIMA         672\n",
       "1                                         PREDNISONA         276\n",
       "2                                         TALIDOMIDA         258\n",
       "3                              VERAPAMIL, CLORIDRATO         182\n",
       "4  RIFAMPICINA com ISONIAZIDA com PIRAZINAMIDA co...         152\n",
       "5                         METOCLOPRAMIDA, CLORIDRATO         147\n",
       "6  TUBERCULINA (DERIVADO PROTEICO PURIFICADO ) PP...          88\n",
       "7                                         ISONIAZIDA          87\n",
       "8                     TIAMINA (CLORIDRATO/PALMITATO)          87\n",
       "9                                    SULFATO FERROSO          85"
      ]
     },
     "execution_count": 27,
     "metadata": {},
     "output_type": "execute_result"
    }
   ],
   "source": [
    "result"
   ]
  },
  {
   "cell_type": "markdown",
   "metadata": {},
   "source": [
    "## Relatório 4"
   ]
  },
  {
   "cell_type": "markdown",
   "metadata": {},
   "source": [
    "### Objetivo: Medicamento mais Retirados por número retiradas"
   ]
  },
  {
   "cell_type": "markdown",
   "metadata": {},
   "source": [
    "codigo para obtenção do resultado:"
   ]
  },
  {
   "cell_type": "code",
   "execution_count": 32,
   "metadata": {},
   "outputs": [],
   "source": [
    "result = pd.read_sql_query(\"\"\"\n",
    "                            SELECT me.nome, COUNT(me.idmedicamento) AS \"Número de Retiradas\" FROM\n",
    "                            medicamento AS me\n",
    "                            INNER JOIN medicamento_posto AS mp ON (mp.idmedicamento = me.idmedicamento)\n",
    "                            INNER JOIN recebimento AS re ON (re.idmedicamentoposto = mp.idmedicamentoposto)\n",
    "                            GROUP BY me.idmedicamento\n",
    "                            ORDER BY \"Número de Retiradas\" DESC limit 10;\n",
    "                            \"\"\",conn)"
   ]
  },
  {
   "cell_type": "code",
   "execution_count": 33,
   "metadata": {},
   "outputs": [
    {
     "data": {
      "text/html": [
       "<div>\n",
       "<table border=\"1\" class=\"dataframe\">\n",
       "  <thead>\n",
       "    <tr style=\"text-align: right;\">\n",
       "      <th></th>\n",
       "      <th>nome</th>\n",
       "      <th>Número de Retiradas</th>\n",
       "    </tr>\n",
       "  </thead>\n",
       "  <tbody>\n",
       "    <tr>\n",
       "      <th>0</th>\n",
       "      <td>BUPROPIONA, CLORIDRATO</td>\n",
       "      <td>4</td>\n",
       "    </tr>\n",
       "    <tr>\n",
       "      <th>1</th>\n",
       "      <td>SINVASTATINA</td>\n",
       "      <td>4</td>\n",
       "    </tr>\n",
       "    <tr>\n",
       "      <th>2</th>\n",
       "      <td>VERAPAMIL, CLORIDRATO</td>\n",
       "      <td>4</td>\n",
       "    </tr>\n",
       "    <tr>\n",
       "      <th>3</th>\n",
       "      <td>TALIDOMIDA</td>\n",
       "      <td>3</td>\n",
       "    </tr>\n",
       "    <tr>\n",
       "      <th>4</th>\n",
       "      <td>SULFATO FERROSO</td>\n",
       "      <td>3</td>\n",
       "    </tr>\n",
       "    <tr>\n",
       "      <th>5</th>\n",
       "      <td>TIAMINA (CLORIDRATO/PALMITATO)</td>\n",
       "      <td>3</td>\n",
       "    </tr>\n",
       "    <tr>\n",
       "      <th>6</th>\n",
       "      <td>BENZILPENICILINA BENZATINA</td>\n",
       "      <td>3</td>\n",
       "    </tr>\n",
       "    <tr>\n",
       "      <th>7</th>\n",
       "      <td>PROMETAZINA, CLORIDRATO</td>\n",
       "      <td>3</td>\n",
       "    </tr>\n",
       "    <tr>\n",
       "      <th>8</th>\n",
       "      <td>AMITRIPTILINA, CLORIDRATO DE</td>\n",
       "      <td>2</td>\n",
       "    </tr>\n",
       "    <tr>\n",
       "      <th>9</th>\n",
       "      <td>OMEPRAZOL E OMEPRAZOL SÓDICO</td>\n",
       "      <td>2</td>\n",
       "    </tr>\n",
       "  </tbody>\n",
       "</table>\n",
       "</div>"
      ],
      "text/plain": [
       "                             nome  Número de Retiradas\n",
       "0          BUPROPIONA, CLORIDRATO                    4\n",
       "1                    SINVASTATINA                    4\n",
       "2           VERAPAMIL, CLORIDRATO                    4\n",
       "3                      TALIDOMIDA                    3\n",
       "4                 SULFATO FERROSO                    3\n",
       "5  TIAMINA (CLORIDRATO/PALMITATO)                    3\n",
       "6      BENZILPENICILINA BENZATINA                    3\n",
       "7         PROMETAZINA, CLORIDRATO                    3\n",
       "8    AMITRIPTILINA, CLORIDRATO DE                    2\n",
       "9    OMEPRAZOL E OMEPRAZOL SÓDICO                    2"
      ]
     },
     "execution_count": 33,
     "metadata": {},
     "output_type": "execute_result"
    }
   ],
   "source": [
    "result"
   ]
  },
  {
   "cell_type": "code",
   "execution_count": null,
   "metadata": {},
   "outputs": [],
   "source": [
    "df = pd.DataFrame(result)\n",
    "cm = sns.light_palette(\"blue\", as_cmap=True)\n",
    "df.style.background_gradient(cmap=cm)\n",
    "\n",
    "import matplotlib.pyplot as plt; plt.rcdefaults()\n",
    "import numpy as np\n",
    "import matplotlib.pyplot as plt\n",
    " \n",
    "objects = tuple(df.nome)\n",
    "y_pos = np.arange(len(objects))\n",
    "performance = list(df.Numero_de_retiradas)\n",
    " \n",
    "plt.bar(y_pos, performance, align='center', alpha=0.5)\n",
    "plt.xticks(y_pos, objects)\n",
    "plt.ylabel('Numero_de_retiradas')\n",
    "plt.title('nome')\n",
    " \n",
    "plt.show()"
   ]
  },
  {
   "cell_type": "code",
   "execution_count": 34,
   "metadata": {},
   "outputs": [
    {
     "data": {
      "text/plain": [
       "Index(['nome', 'Quantidade'], dtype='object')"
      ]
     },
     "execution_count": 34,
     "metadata": {},
     "output_type": "execute_result"
    }
   ],
   "source": [
    "df.columns"
   ]
  },
  {
   "cell_type": "code",
   "execution_count": null,
   "metadata": {},
   "outputs": [],
   "source": []
  },
  {
   "cell_type": "code",
   "execution_count": null,
   "metadata": {},
   "outputs": [],
   "source": []
  },
  {
   "cell_type": "markdown",
   "metadata": {},
   "source": [
    "# Referencias"
   ]
  },
  {
   "cell_type": "markdown",
   "metadata": {},
   "source": [
    "https://pandas.pydata.org/pandas-docs/stable/style.html <br>\n",
    "https://pythonspot.com/matplotlib-bar-chart/<br>\n",
    "https://pandas.pydata.org/pandas-docs/stable/generated/pandas.DataFrame.loc.html <br>"
   ]
  }
 ],
 "metadata": {
  "kernelspec": {
   "display_name": "Python 3",
   "language": "python",
   "name": "python3"
  },
  "language_info": {
   "codemirror_mode": {
    "name": "ipython",
    "version": 3
   },
   "file_extension": ".py",
   "mimetype": "text/x-python",
   "name": "python",
   "nbconvert_exporter": "python",
   "pygments_lexer": "ipython3",
   "version": "3.6.3"
  }
 },
 "nbformat": 4,
 "nbformat_minor": 2
}
